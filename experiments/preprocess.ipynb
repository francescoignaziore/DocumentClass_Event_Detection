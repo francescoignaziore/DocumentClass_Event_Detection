{
  "nbformat": 4,
  "nbformat_minor": 0,
  "metadata": {
    "colab": {
      "name": "preprocess",
      "provenance": [],
      "collapsed_sections": []
    },
    "kernelspec": {
      "name": "python3",
      "display_name": "Python 3"
    },
    "language_info": {
      "name": "python"
    },
    "accelerator": "GPU"
  },
  "cells": [
    {
      "cell_type": "code",
      "metadata": {
        "colab": {
          "base_uri": "https://localhost:8080/"
        },
        "id": "jp5q8IBWkGmS",
        "outputId": "6ca65304-d0dd-4d9d-b259-1ba083403500"
      },
      "source": [
        "!pip install datasets"
      ],
      "execution_count": 7,
      "outputs": [
        {
          "output_type": "stream",
          "text": [
            "Requirement already satisfied: datasets in /usr/local/lib/python3.7/dist-packages (1.6.2)\n",
            "Requirement already satisfied: pyarrow>=1.0.0<4.0.0 in /usr/local/lib/python3.7/dist-packages (from datasets) (3.0.0)\n",
            "Requirement already satisfied: tqdm<4.50.0,>=4.27 in /usr/local/lib/python3.7/dist-packages (from datasets) (4.41.1)\n",
            "Requirement already satisfied: numpy>=1.17 in /usr/local/lib/python3.7/dist-packages (from datasets) (1.19.5)\n",
            "Requirement already satisfied: dill in /usr/local/lib/python3.7/dist-packages (from datasets) (0.3.3)\n",
            "Requirement already satisfied: fsspec in /usr/local/lib/python3.7/dist-packages (from datasets) (2021.4.0)\n",
            "Requirement already satisfied: requests>=2.19.0 in /usr/local/lib/python3.7/dist-packages (from datasets) (2.23.0)\n",
            "Requirement already satisfied: xxhash in /usr/local/lib/python3.7/dist-packages (from datasets) (2.0.2)\n",
            "Requirement already satisfied: multiprocess in /usr/local/lib/python3.7/dist-packages (from datasets) (0.70.11.1)\n",
            "Requirement already satisfied: importlib-metadata; python_version < \"3.8\" in /usr/local/lib/python3.7/dist-packages (from datasets) (3.10.1)\n",
            "Requirement already satisfied: huggingface-hub<0.1.0 in /usr/local/lib/python3.7/dist-packages (from datasets) (0.0.8)\n",
            "Requirement already satisfied: packaging in /usr/local/lib/python3.7/dist-packages (from datasets) (20.9)\n",
            "Requirement already satisfied: pandas in /usr/local/lib/python3.7/dist-packages (from datasets) (1.1.5)\n",
            "Requirement already satisfied: idna<3,>=2.5 in /usr/local/lib/python3.7/dist-packages (from requests>=2.19.0->datasets) (2.10)\n",
            "Requirement already satisfied: urllib3!=1.25.0,!=1.25.1,<1.26,>=1.21.1 in /usr/local/lib/python3.7/dist-packages (from requests>=2.19.0->datasets) (1.24.3)\n",
            "Requirement already satisfied: certifi>=2017.4.17 in /usr/local/lib/python3.7/dist-packages (from requests>=2.19.0->datasets) (2020.12.5)\n",
            "Requirement already satisfied: chardet<4,>=3.0.2 in /usr/local/lib/python3.7/dist-packages (from requests>=2.19.0->datasets) (3.0.4)\n",
            "Requirement already satisfied: zipp>=0.5 in /usr/local/lib/python3.7/dist-packages (from importlib-metadata; python_version < \"3.8\"->datasets) (3.4.1)\n",
            "Requirement already satisfied: typing-extensions>=3.6.4; python_version < \"3.8\" in /usr/local/lib/python3.7/dist-packages (from importlib-metadata; python_version < \"3.8\"->datasets) (3.7.4.3)\n",
            "Requirement already satisfied: filelock in /usr/local/lib/python3.7/dist-packages (from huggingface-hub<0.1.0->datasets) (3.0.12)\n",
            "Requirement already satisfied: pyparsing>=2.0.2 in /usr/local/lib/python3.7/dist-packages (from packaging->datasets) (2.4.7)\n",
            "Requirement already satisfied: python-dateutil>=2.7.3 in /usr/local/lib/python3.7/dist-packages (from pandas->datasets) (2.8.1)\n",
            "Requirement already satisfied: pytz>=2017.2 in /usr/local/lib/python3.7/dist-packages (from pandas->datasets) (2018.9)\n",
            "Requirement already satisfied: six>=1.5 in /usr/local/lib/python3.7/dist-packages (from python-dateutil>=2.7.3->pandas->datasets) (1.15.0)\n"
          ],
          "name": "stdout"
        }
      ]
    },
    {
      "cell_type": "code",
      "metadata": {
        "colab": {
          "base_uri": "https://localhost:8080/"
        },
        "id": "xIALcGy0WDXS",
        "outputId": "203bded8-a167-430c-a7b6-b5cc2e84a4f2"
      },
      "source": [
        "from datasets import load_dataset\n",
        "path_to_load = '/content/en-train.json'\n",
        "train_dataset, val_dataset = load_dataset('json', data_files=path_to_load, split=['train[:80%]','train[80%:]'])\n",
        "train_dataset = train_dataset.rename_column('text','sentence')\n",
        "val_dataset = val_dataset.rename_column('text','sentence')"
      ],
      "execution_count": 8,
      "outputs": [
        {
          "output_type": "stream",
          "text": [
            "Using custom data configuration default-79e2430df85ceb61\n",
            "Reusing dataset json (/root/.cache/huggingface/datasets/json/default-79e2430df85ceb61/0.0.0/83d5b3a2f62630efc6b5315f00f20209b4ad91a00ac586597caee3a4da0bef02)\n"
          ],
          "name": "stderr"
        }
      ]
    },
    {
      "cell_type": "code",
      "metadata": {
        "id": "xAw84nS-Xv0x"
      },
      "source": [
        "inputs = train_dataset['sentence']"
      ],
      "execution_count": 67,
      "outputs": []
    },
    {
      "cell_type": "code",
      "metadata": {
        "colab": {
          "base_uri": "https://localhost:8080/",
          "height": 226
        },
        "id": "402NM9V8Xv8R",
        "outputId": "d208b64b-1674-47c2-e8cf-245fb313817e"
      },
      "source": [
        "import re\n",
        "import string\n",
        "import nltk\n",
        "nltk.download('stopwords')\n",
        "nltk.download('punkt')\n",
        "nltk.download('wordnet')\n",
        "from nltk.corpus import stopwords\n",
        "from nltk.tokenize import word_tokenize\n",
        "from nltk.stem import PorterStemmer\n",
        "from nltk.stem import WordNetLemmatizer\n",
        "\n",
        "\n",
        "def preprocess(input_str):\n",
        "  input_str = input_str.lower()\n",
        "  input_str = re.sub(r'http\\S+', '', input_str)\n",
        "  input_str = re.sub(r'[^a-zA-Z]', '', input_str)\n",
        "  input_str = re.sub(r'\\d+', '', input_str)\n",
        "  input_str = input_str.strip()\n",
        "\n",
        "  stop_words = set(stopwords.words('english'))\n",
        "  tokens = word_tokenize(input_str)\n",
        "  result = [i for i in tokens if not i in stop_words]\n",
        "\n",
        "  lemmatizer=WordNetLemmatizer()\n",
        "  result = [lemmatizer.lemmatize(word) for word in result]\n",
        "\n",
        "  input_str = ' '.join(map(str, result))\n",
        "\n",
        "  return input_str\n",
        "\n",
        "input_str = inputs[0]\n",
        "preprocess(input_str)"
      ],
      "execution_count": 73,
      "outputs": [
        {
          "output_type": "stream",
          "text": [
            "[nltk_data] Downloading package stopwords to /root/nltk_data...\n",
            "[nltk_data]   Package stopwords is already up-to-date!\n",
            "[nltk_data] Downloading package punkt to /root/nltk_data...\n",
            "[nltk_data]   Package punkt is already up-to-date!\n",
            "[nltk_data] Downloading package wordnet to /root/nltk_data...\n",
            "[nltk_data]   Package wordnet is already up-to-date!\n"
          ],
          "name": "stdout"
        },
        {
          "output_type": "execute_result",
          "data": {
            "application/vnd.google.colaboratory.intrinsic+json": {
              "type": "string"
            },
            "text/plain": [
              "'schoolsneedtoadoptgreenapproachpublishedmondaymarchamyouarenevertooyoungtolearntolookaftertheenvironmentanofficialsaysspeakingataseminaronenvironmentalstudiesheldattheopenuniversityofhongkongmabelmakloksheungseniorenvironmentalprotectionofficerattheenvironmentalprotectiondepartmentsaidconcernfortheenvironmentshouldbetaughtfromanearlyageschoolsshouldadoptagreenapproachtohelpcreateabetterlivingenvironmentmsmaksaidenvironmentalawarenesswouldpenetrateeverylevelofsocietyifchildrenlearneditatschoolshesaiditshouldbeatopdownapproachthefirstlevelisthemanagementlevelprincipalsandadministrativestaffatschoolsshouldsetanexampleforteachers'"
            ]
          },
          "metadata": {
            "tags": []
          },
          "execution_count": 73
        }
      ]
    },
    {
      "cell_type": "code",
      "metadata": {
        "id": "NHTHh_Exd6GJ"
      },
      "source": [
        "post_inputs = [preprocess(sent) for sent in inputs]"
      ],
      "execution_count": 69,
      "outputs": []
    }
  ]
}